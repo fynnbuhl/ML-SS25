{
 "cells": [
  {
   "cell_type": "markdown",
   "id": "better-complement",
   "metadata": {},
   "source": [
    "# Electric Motor Temperature Estimation\n",
    "\n",
    "**Link**\n",
    "\n",
    "https://www.kaggle.com/wkirgsn/electric-motor-temperature\n",
    "\n",
    "\n",
    "**Context**\n",
    "\n",
    "The data set comprises several sensor data collected from a permanent magnet synchronous motor (PMSM) deployed on a test bench. The PMSM represents a german OEM's prototype model. Test bench measurements were collected by the LEA department at Paderborn University. This data set is mildly anonymized.\n",
    "\n",
    "**Content**\n",
    "\n",
    "All recordings are sampled at 2 Hz. The data set consists of multiple measurement sessions, which can be distinguished from each other by column `profile_id`. A measurement session can be between one and six hours long.\n",
    "\n",
    "The motor is excited by hand-designed driving cycles denoting a reference motor speed and a reference torque. Currents in d/q-coordinates (columns `i_d` and `i_q`) and voltages in d/q-coordinates (columns `u_d` and `u_q`) are a result of a standard control strategy trying to follow the reference speed and torque. Columns `motor_speed` and `torque` are the resulting quantities achieved by that strategy, derived from set currents and voltages.\n",
    "\n",
    "Most driving cycles denote random walks in the speed-torque-plane in order to imitate real world driving cycles to a more accurate degree than constant excitations and ramp-ups and -downs would.\n",
    "\n",
    "The dataset contains following attributes:\n",
    "- u_q - Voltage q-component measurement in dq-coordinates (in V)\n",
    "- coolant - Coolant temperature (in °C)\n",
    "- stator_winding - Stator winding temperature (in °C) measured with thermocouples\n",
    "- u_d - Voltage d-component measurement in dq-coordinates\n",
    "- stator_tooth - Stator tooth temperature (in °C) measured with thermocouples\n",
    "- motor_speed - Motor speed (in rpm)\n",
    "- i_d - Current d-component measurement in dq-coordinates\n",
    "- i_q - Current q-component measurement in dq-coordinates\n",
    "- pm - Permanent magnet temperature (in °C) measured with thermocouples \n",
    "- stator_yoke - Stator yoke temperature (in °C) measured with thermocouples\n",
    "- ambient - Ambient temperature (in °C)\n",
    "- torque - Motor torque (in Nm)\n",
    "- profile_id - Measurement session id. Each distinct measurement session can be identified through this integer id.\n",
    "\n",
    "The `pm` attribute is our target variable, which should be predicted depending on new measurements.\n",
    "\n",
    "**Task (Regression)**\n",
    "\n",
    "Your task is to use the present data set to predict the temperature of the motors permament magnet. To do this, use the `Random Forest Regressor` and `ANN` methods for this task. You must also include a third method that you have selected yourself.\n",
    "\n",
    "First of all, get an overview of the project in your group. Then carefully read the checklist for machine learning projects and think about how you want to organize your group work. It is strongly recommended that all task items are completed by all group members. You can divide the focus among yourself, but make sure that all members are as well informed as possible about the content.\n",
    "\n",
    "Use the checklist for machine learning projects as a guide when working on the task. Document all the individual steps that are listed there (main and sub-items). Make sure to use Markdown Cells for your documentation. Document the functionality of your algorithms (all three) with equations and explanations. Dont forget, this project is a task for five students. We expect a detailed documentation of your approach and your results.\n",
    "\n",
    "**Note**\n",
    "\n",
    "We are aware that there are examples and solutions for the selected data sets on popular platforms, e.g. Kaggle. You are welcome to use them as a guide. But remember that at the end of the project, your own work will be assessed. We compare the results with the popular solutions of common platforms. We would like to recognize the independence in your work and see a difference to the existing solution approaches."
   ]
  },
  {
   "cell_type": "code",
   "execution_count": null,
   "id": "crucial-dress",
   "metadata": {},
   "outputs": [],
   "source": []
  }
 ],
 "metadata": {
  "kernelspec": {
   "display_name": "Python 3 (ipykernel)",
   "language": "python",
   "name": "python3"
  },
  "language_info": {
   "codemirror_mode": {
    "name": "ipython",
    "version": 3
   },
   "file_extension": ".py",
   "mimetype": "text/x-python",
   "name": "python",
   "nbconvert_exporter": "python",
   "pygments_lexer": "ipython3",
   "version": "3.11.11"
  }
 },
 "nbformat": 4,
 "nbformat_minor": 5
}
