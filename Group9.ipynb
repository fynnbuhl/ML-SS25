{
 "cells": [
  {
   "cell_type": "markdown",
   "id": "4e4ae9f1",
   "metadata": {},
   "source": [
    "# Machine Learning Project - Group 9\n",
    "### SS2025"
   ]
  },
  {
   "cell_type": "code",
   "execution_count": null,
   "id": "761ff97d",
   "metadata": {},
   "outputs": [],
   "source": [
    "#test"
   ]
  }
 ],
 "metadata": {
  "kernelspec": {
   "display_name": ".venv",
   "language": "python",
   "name": "python3"
  },
  "language_info": {
   "name": "python",
   "version": "3.10.11"
  }
 },
 "nbformat": 4,
 "nbformat_minor": 5
}
