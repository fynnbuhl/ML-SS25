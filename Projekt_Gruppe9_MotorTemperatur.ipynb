{
 "cells": [
  {
   "cell_type": "markdown",
   "id": "4e4ae9f1",
   "metadata": {},
   "source": [
    "# Machine Learning Projekt - Gruppe 9\n",
    "## Projekt: _Electric Motor Temperature Estimation_\n",
    "### SS2025\n",
    "\n",
    "Gruppenmitglieder: André Korten, Fynn Buhl, Kilian Feil, Lukas XXX, Nic Tusch, Tobi XXX\n",
    "____"
   ]
  },
  {
   "cell_type": "markdown",
   "id": "f0d10acb",
   "metadata": {},
   "source": [
    "## Aufgabenstellung:\n",
    "\n",
    "Aufgabe des Projekts ist es, auf Grundlage des vorliegenden Datensatzes die Temperatur des Permanentmagneten eines Motors vorherzusagen.\n",
    "Zur Umsetzung dieser Regressionsaufgabe werden zwei vorgegebene Verfahren eingesetzt: der Random Forest Regressor sowie ein künstliches neuronales Netz (ANN). Zusätzlich wird ein drittes, selbst gewähltes Verfahren zur Modellierung und zum Vergleich herangezogen.\n",
    "\n",
    "\n",
    "\n",
    "\n",
    "&nbsp;"
   ]
  },
  {
   "cell_type": "markdown",
   "id": "1d98d8c5",
   "metadata": {},
   "source": [
    "\n",
    "### 1. Frame the Problem and Look at the Big Picture\n",
    "    1. Define the objective of your project in your own words.\n",
    "    2. Select a performance criteria for evaluation of the task.\n",
    "    3. Explain in a paragraph how you would solve the problem manually.\n",
    "    4. List assumptions that you made so far.\n",
    "    "
   ]
  },
  {
   "cell_type": "markdown",
   "id": "a639a80b",
   "metadata": {},
   "source": [
    "### 2. Get the Data\n",
    "\n",
    "**Kontext**\n",
    "\n",
    "Der Datensatz umfasst verschiedene Sensordaten, die von einem Permanentmagnet-Synchronmotor (PMSM) auf einem Prüfstand gesammelt wurden. Bei dem PMSM handelt es sich um den Prototyp eines deutschen OEMs. Die Prüfstandsmessungen wurden von der Abteilung LEA der Universität Paderborn durchgeführt.\n",
    "\n",
    "\n",
    "**Inhalt**\n",
    "\n",
    "Alle Aufzeichnungen werden mit 2 Hz abgetastet. Der Datensatz besteht aus mehreren Messsitzungen, die durch die Spalte „profile_id“ voneinander unterschieden werden können. Eine Messsitzung kann zwischen einer und sechs Stunden lang sein.\n",
    "\n",
    "Der Motor wird durch von Hand entworfene Fahrzyklen erregt, die eine Referenzmotordrehzahl und ein Referenzdrehmoment vorgeben.\n",
    "Die Ströme in d/q-Koordinaten (Spalten „i_d“ und i_q„) und die Spannungen in d/q-Koordinaten (Spalten ‚u_d‘ und “u_q\") sind das Ergebnis einer Standardregelstrategie, die versucht, der Solldrehzahl und dem Solldrehmoment zu folgen.\n",
    "Die Spalten „motor_speed“ und „torque“ sind die resultierenden Größen, die durch diese Strategie erreicht werden, abgeleitet von den eingestellten Strömen und Spannungen.\n",
    "\n",
    "Die meisten Fahrzyklen stellen Zufallsbewegungen in der Drehzahl-Drehmoment-Ebene dar, um die realen Fahrzyklen genauer zu imitieren, als dies bei konstanter Erregung und Hoch- und Herunterfahren der Fall wäre.\n",
    "\n",
    "\n",
    "Quelle: _https://www.kaggle.com/datasets/wkirgsn/electric-motor-temperature_\n"
   ]
  },
  {
   "cell_type": "markdown",
   "id": "14af147c",
   "metadata": {},
   "source": [
    "\n",
    "\n",
    "4. Convert the data to a format you can easily manipulate (if required).\n",
    "5. Check the size and type of the data.\n",
    "6. Sample a test set, put it aside, and never look at it (no data snooping!).\n",
    "7. (Sample a training set and a validation set. Only necessary if N-fold cross-validation is not used)"
   ]
  },
  {
   "cell_type": "code",
   "execution_count": 9,
   "id": "633773a8",
   "metadata": {},
   "outputs": [
    {
     "name": "stdout",
     "output_type": "stream",
     "text": [
      "<class 'pandas.core.frame.DataFrame'>\n",
      "RangeIndex: 1330816 entries, 0 to 1330815\n",
      "Data columns (total 13 columns):\n",
      " #   Column          Non-Null Count    Dtype  \n",
      "---  ------          --------------    -----  \n",
      " 0   u_q             1330816 non-null  float64\n",
      " 1   coolant         1330816 non-null  float64\n",
      " 2   stator_winding  1330816 non-null  float64\n",
      " 3   u_d             1330816 non-null  float64\n",
      " 4   stator_tooth    1330816 non-null  float64\n",
      " 5   motor_speed     1330816 non-null  float64\n",
      " 6   i_d             1330816 non-null  float64\n",
      " 7   i_q             1330816 non-null  float64\n",
      " 8   pm              1330816 non-null  float64\n",
      " 9   stator_yoke     1330816 non-null  float64\n",
      " 10  ambient         1330816 non-null  float64\n",
      " 11  torque          1330816 non-null  float64\n",
      " 12  profile_id      1330816 non-null  int64  \n",
      "dtypes: float64(12), int64(1)\n",
      "memory usage: 132.0 MB\n"
     ]
    }
   ],
   "source": [
    "# import required packages\n",
    "import os\n",
    "import pandas as pd\n",
    "\n",
    "# Define the path where the data file is stored\n",
    "DATA_PATH = \"./\"\n",
    "\n",
    "# Function to load motor data from a CSV file\n",
    "def load_motor_data(data_path=DATA_PATH):\n",
    "    csv_path = os.path.join(data_path, \"measures_v2.csv\") #CSV file has a header row -> Default: Assumes that the first row is the header\n",
    "    return pd.read_csv(csv_path)\n",
    "\n",
    "# Load the motor dataset using the defined function\n",
    "motor = load_motor_data(DATA_PATH)\n",
    "\n",
    "# Display information about the loaded DataFrame\n",
    "motor.info()"
   ]
  },
  {
   "cell_type": "markdown",
   "id": "581b34d8",
   "metadata": {},
   "source": [
    "### 3. Explore the Data\n",
    "\n",
    "1. Create a copy of the training set for exploration (sample it down to a manageable size if necessary).\n",
    "2. (Create a Jupyter Notebook for your data exploration.)\n",
    "3. Study each attribute and its characteristics\n",
    "    - name\n",
    "    - type\n",
    "    - % of missing values\n",
    "    - noisiness\n",
    "    - usefulness for task\n",
    "    - type of distribution\n",
    "    - ...\n",
    "4. Identify the target attribute (supervised learning).\n",
    "5. Visualize the data.\n",
    "6. Study correlations between attributes.\n",
    "7. Identify the promising transformations you may want to apply.\n",
    "8. Document the results of your exploratory data analysis."
   ]
  },
  {
   "cell_type": "markdown",
   "id": "4763ed61",
   "metadata": {},
   "source": [
    "### 4. Prepare the Data\n",
    "\n",
    "1. Write functions for all data transformations you apply.\n",
    "2. Clean the data.\n",
    "    - remove outliers\n",
    "    - fill in missing values\n",
    "3. Select important features (drop attributes that provide no useful information for the task).\n",
    "4. Use feature engineering.\n",
    "    - decompose categorical features\n",
    "    - add promising transformations for features\n",
    "    - aggregate features into promissing new features\n",
    "5. Use feature scaling (standardize or normalize features)."
   ]
  },
  {
   "cell_type": "markdown",
   "id": "36ba1620",
   "metadata": {},
   "source": [
    "### 5. Select and Train your Models\n",
    "\n",
    "1. Learn the basics about the models you've been assigned.\n",
    "2. Select a 3rd model on your own. Use criteria for your selection.\n",
    "3. Make a plan for training and evaluation of the models.\n",
    "4. Build your models (select meaningful values for the model parameters).\n",
    "5. Train your models with the training set.\n",
    "6. Measure and compare the performance of your models (use N-fold cross-validation).\n",
    "7. Analyze the most significant parameters for each model.\n",
    "8. Analyze the types of errors the models make."
   ]
  },
  {
   "cell_type": "markdown",
   "id": "553ba28f",
   "metadata": {},
   "source": [
    "### 6. Fine-Tune your Models\n",
    "\n",
    "1. Fine-tune the hyperparameters using cross-validation.\n",
    "    - treat your data transformation choices as hyperparameters, especially when you are not sure about them. (e.g. if you are not sure whether to replace missing values with zeros or with the median value, or to just drop the rows.)\n",
    "    - use grid search and random search $\\to$ compare and evaluate the results.\n",
    "2. Compare the results of all three models after the fine-tuning process to determine the best hyperparameters.\n",
    "3. Select a final model and measure its performance on the test set to estimate the generalization error.\n",
    "    - dont tweak your model after measuring the generalization error: you would just start overfitting the test set.\n",
    "4. Document the results of the examined models. Pay particular attention to the final model."
   ]
  },
  {
   "cell_type": "markdown",
   "id": "8247740c",
   "metadata": {},
   "source": [
    "### 7. Present Your Solution\n",
    "\n",
    "1. Document what you have done.\n",
    "    - write a summary of the results in a new, final section\n",
    "    - explain why your solution achieves the task objective\n",
    "2. Create a nice presentation.\n",
    "    - make sure to highlight the big picture first\n",
    "    - make sure you explain the assigned model in detail to your fellow students\n",
    "    - dont forget to present interesting points you noticed along the way\n",
    "    - list your assumptions and your systems limitations\n",
    "    - ensure your key findings are communicated"
   ]
  }
 ],
 "metadata": {
  "kernelspec": {
   "display_name": ".venv",
   "language": "python",
   "name": "python3"
  },
  "language_info": {
   "codemirror_mode": {
    "name": "ipython",
    "version": 3
   },
   "file_extension": ".py",
   "mimetype": "text/x-python",
   "name": "python",
   "nbconvert_exporter": "python",
   "pygments_lexer": "ipython3",
   "version": "3.10.11"
  }
 },
 "nbformat": 4,
 "nbformat_minor": 5
}
